{
 "cells": [
  {
   "cell_type": "markdown",
   "metadata": {},
   "source": [
    "# $\\S$ 3.3. Subset Selection\n",
    "\n",
    "Two reasons why we are often not satisfied with the least squares estimates:\n",
    "1. Prediction accuracy.  \n",
    "The least squares estimate often have low bias but large variance. Prediction accuracy can sometimes be improved by shrinking or setting some coefficients to zero. By doing so we sacrifice a little bit of bias to reduce the variance of the predicted values, and hence may improve the overall prediction accuracy.\n",
    "2. Interpretation.  \n",
    "With a large number of predictiors, we often would like to determine a smaller subset that exhibit the strongest effects. In order to get the \"big picture\", we are willing to sacrifice some of the small details.\n",
    "\n",
    "In this section we describe a number of approaches to variable subset selection with linear regression. In later sections we discuss shrinkage and hybrid approaches for controlling variance, as well as other dimension-reduction strategies. These all fall under the general heading model selection. Model selection is not restricted to linear models; Chapter 7 covers this topic in some detail.\n",
    "\n",
    "With subset selection we retain only a subset of the variables, and eliminate the rest from the model. Least squares regression is used to estimate the coefficients of the inputs that are retained. There are a number of different strategies for choosing the subset."
   ]
  },
  {
   "cell_type": "markdown",
   "metadata": {},
   "source": [
    "## $\\S$ 3.3.1. Best-Subset Selection\n",
    "\n",
    "Best subset regression finds for each $k\\in\\lbrace0,1,2,\\cdots,p\\rbrace$ the subset of size $k$ that gives the smallest residual sum of squares. An efficient algorithm -- the *leaps and bounds* procedure (Furnival and Wilson, 1974) -- makes this feasible for $p$ as large as 30 or 40."
   ]
  },
  {
   "cell_type": "code",
   "execution_count": 1,
   "metadata": {},
   "outputs": [],
   "source": [
    "\"\"\"FIGURE 3.5. All possible subset models for the prostate cancer example\n",
    "\n",
    "At each subset size is shown the residual sum-of-squares for each model of\n",
    "that size.\"\"\"\n",
    "import math\n",
    "import collections\n",
    "import itertools\n",
    "import functools\n",
    "import operator as op\n",
    "\n",
    "import pandas as pd\n",
    "import scipy\n",
    "import scipy.stats\n",
    "import matplotlib.pyplot as plt"
   ]
  },
  {
   "cell_type": "code",
   "execution_count": 2,
   "metadata": {},
   "outputs": [],
   "source": [
    "data = pd.read_csv('../data/prostate/prostate.data', delimiter='\\t',\n",
    "                   index_col=0)\n",
    "data_y = data['lpsa']\n",
    "data_x_normalized = data.drop(['train', 'lpsa'], axis=1)\\\n",
    "                        .apply(scipy.stats.zscore)\n",
    "# data_normalized.describe()  # check it normalized!\n",
    "\n",
    "data_x_train = data_x_normalized[data['train'] == 'T']\n",
    "data_y_train = data_y[data['train'] == 'T']\n",
    "data_x_test = data_x_normalized[data['train'] == 'F']\n",
    "data_y_test = data_y[data['train'] == 'F']\n",
    "vec_y = data_y_train.as_matrix()\n",
    "vec_y_test = data_y_test.as_matrix()\n",
    "\n",
    "size_train = sum(data['train'] == 'T')\n",
    "size_test = sum(data['train'] == 'F')\n",
    "size_predictor = len(data_x_train.columns)"
   ]
  },
  {
   "cell_type": "code",
   "execution_count": 7,
   "metadata": {},
   "outputs": [],
   "source": [
    "def ols_with_column_names(df_x:pd.DataFrame, vec_y:scipy.ndarray,\n",
    "                          *column_names) ->float:\n",
    "    if column_names:\n",
    "        df_x_subset = df_x[list(column_names)]\n",
    "        mat_x = scipy.hstack((scipy.ones((len(df_x), 1)),\n",
    "                           df_x_subset.as_matrix()))\n",
    "    else:\n",
    "        mat_x = scipy.ones((len(df_x), 1))\n",
    "    ols_beta = scipy.linalg.solve(mat_x.T @ mat_x, mat_x.T @ vec_y)\n",
    "    vec_y_fitted = mat_x @ ols_beta\n",
    "    return ols_beta, vec_y_fitted"
   ]
  },
  {
   "cell_type": "code",
   "execution_count": 4,
   "metadata": {},
   "outputs": [],
   "source": [
    "def ncr(n:int, r:int) ->int:\n",
    "    \"\"\"Compute combination number nCr\"\"\"\n",
    "    r = min(r, n-r)\n",
    "    if r == 0:\n",
    "        return 1\n",
    "    numer = functools.reduce(op.mul, range(n, n-r, -1))\n",
    "    denom = functools.reduce(op.mul, range(1, r+1))\n",
    "    return numer//denom\n",
    "\n",
    "\n",
    "def ols_with_subset_size(df_x:pd.DataFrame, vec_y:scipy.ndarray,\n",
    "                         k:int) ->scipy.ndarray:\n",
    "    if k == 0:\n",
    "        ols_beta, vec_y_fitted = ols_with_column_names(df_x, vec_y)\n",
    "        return [{\n",
    "            'column_names': 'constant',\n",
    "            'beta': ols_beta,\n",
    "            'rss': ((vec_y-vec_y_fitted)**2).sum(),\n",
    "        }]\n",
    "    column_combi = itertools.combinations(data_x_normalized.columns, k)\n",
    "    result = []\n",
    "    for column_names in column_combi:\n",
    "        ols_beta, vec_y_fitted = ols_with_column_names(df_x, vec_y,\n",
    "                                                       *column_names)\n",
    "        result.append({\n",
    "            'column_names': column_names,\n",
    "            'beta': ols_beta,\n",
    "            'rss': ((vec_y-vec_y_fitted)**2).sum(),\n",
    "        })\n",
    "    return result"
   ]
  },
  {
   "cell_type": "code",
   "execution_count": 8,
   "metadata": {},
   "outputs": [
    {
     "data": {
      "image/png": "[encoded data removed]",
      "text/plain": [
       "<matplotlib.figure.Figure at 0x7fb665b6fb38>"
      ]
     },
     "metadata": {},
     "output_type": "display_data"
    },
    {
     "data": {
      "image/png": "[encoded data removed]",
      "text/plain": [
       "<matplotlib.figure.Figure at 0x7fb663a29080>"
      ]
     },
     "metadata": {},
     "output_type": "display_data"
    },
    {
     "data": {
      "image/png": "[encoded data removed]",
      "text/plain": [
       "<matplotlib.figure.Figure at 0x7fb665b7b3c8>"
      ]
     },
     "metadata": {},
     "output_type": "display_data"
    }
   ],
   "source": [
    "fig35 = plt.figure()\n",
    "ax = fig35.add_subplot(1, 1, 1)\n",
    "\n",
    "rss_min = []\n",
    "for k in range(size_predictor+1):\n",
    "    number_of_combinations = ncr(size_predictor, k)\n",
    "    ols_list = ols_with_subset_size(data_x_train, vec_y, k)\n",
    "    ax.plot(scipy.ones(number_of_combinations)*k, [d['rss'] for d in ols_list],\n",
    "            'o', color='gray', markersize=3)\n",
    "    ols_best = min(ols_list, key=op.itemgetter('rss'))\n",
    "    rss_min.append(ols_best['rss'])\n",
    "ax.plot(range(size_predictor+1), rss_min, 'o--', color='C1')\n",
    "ax.set_xlabel('Subset Size k')\n",
    "ax.set_ylabel('Residual Sum-of-Squares')\n",
    "plt.show()"
   ]
  },
  {
   "cell_type": "markdown",
   "metadata": {},
   "source": [
    "Note that the best subset of size 2, for example, need not include the variable that was in the best subset if size 1. The best-subset curve is necessarily decreasing, so cannot be used to select the subsit size $k$. The question of how to choose $k$ involves the tradeoff between bias and variance, along with more subjective desire for parsimony. There are a number of criteria that one may use; typically we choose the smallest model that minimizes an estimate of the expected prediction error.\n",
    "\n",
    "Many of the other approaches that we discuss in this chapter are similar, in that they use the training data to produce a sequence of models varying in complexity and indexed by a single parameter. In the next section we use cross-validation to estimate prediction error and select $k$; the $\\text{AIC}$ criterion is a popular alternative."
   ]
  },
  {
   "cell_type": "markdown",
   "metadata": {},
   "source": [
    "## $\\S$ 3.3.2. Forward- and Backward-Stepwise Selection\n",
    "\n",
    "> Rather than search through all possible subsets, we can seek a good path through them.\n",
    "\n",
    "### Forward-stepwise selection\n",
    "\n",
    "*Forward-stepwise selection* starts with the intercept, and the sequentially adds into the model the predictor that most improves the fit. Clever updating algorithms can exploit the QR decomposition for the current fit to rapidly establish the next candidate. Like best-subset regression, the subset size $k$ mush be determined.\n",
    "\n",
    "Forward-stepwise selection is a *greedy algorithm*, producing a nested sequence of models. In this sense it might seem sub-optimal compared to best-subset selection. However, there are several reasons why it might be preferred:\n",
    "* Computational; we can always compute the forward stepwise sequence (even when $p \\gg N$).\n",
    "* Statistical;forward stepwise is a more constrained search than the best subset selection, and will have lower variance, but perhaps more bias.\n",
    "\n",
    "### Backward-stepwise selction\n",
    "\n",
    "*Backward-stepwise selection* starts with the full model, and sequentially deletes the predictor that has the least impact on the fit. The candidate for dropping is the variable with the smallest Z-score. Backward selection can only be used when $N>p$, while forward selection can always be used.\n",
    "\n",
    "On the prostate cancer example, best-subset, forward and backward selection all gave exactly the same sequence of terms."
   ]
  },
  {
   "cell_type": "code",
   "execution_count": 6,
   "metadata": {},
   "outputs": [
    {
     "name": "stdout",
     "output_type": "stream",
     "text": [
      "NOT YET IMPLEMENTED\n"
     ]
    }
   ],
   "source": [
    "\"\"\"FIGURE 3.6. Comparison of four subset-selection techniques on a\n",
    "simulated linear regression problem Y = X^T * beta + epsilon\"\"\"\n",
    "print('NOT YET IMPLEMENTED')"
   ]
  },
  {
   "cell_type": "markdown",
   "metadata": {},
   "source": [
    "## $\\S$ 3.3.3. Forward-Stagewise Regression\n",
    "\n",
    "See the textbook."
   ]
  },
  {
   "cell_type": "markdown",
   "metadata": {},
   "source": [
    "## $\\S$ 3.3.4. Prostate Cancer Data Example (Continued)\n",
    "\n",
    "With subset size $k$ determined via tenfold cross-validation, best-subset selection chose to use the two predictors $\\texttt{lcvol}$ and $\\texttt{lweight}$.\n",
    "\n",
    "### Cross-validation, briefly\n",
    "\n",
    "1. Cross-validation works by dividing the training data randomly into ten equal parts.\n",
    "2. The learning method is fit -- for a range of values of the complexity parameter -- to nine-tenths of the data.\n",
    "3. The prediction error is computed on the remaining one-tenth.\n",
    "4. Repeat step 2 - step 3 for each one-tenth of the data, and the ten prediction error estimates are averaged.\n",
    "5. Then we obtain an estimated prediction error curve as a function of the complexity parameter so that a proper complexity parameter can be chosen.\n",
    "\n",
    "We have used the \"one-standard-error\" rule -- we pick the most parsimonious model within one standard error of the minimun. Such a rule acknowledges the fact that the tradeoff curve is estimated with error, and hence takes a conservative approach."
   ]
  },
  {
   "cell_type": "code",
   "execution_count": 9,
   "metadata": {},
   "outputs": [],
   "source": [
    "\"\"\"FIGURE 3.7. Estimated prediction error curves and their standard errors\n",
    "for the best-subset selection via tenfold cross-validation.\n",
    "\n",
    "Unfortunately, the result of this code does not agree with the textbook. It\n",
    "is suspected that the scheme to split the trainig data for CV has an issue,\n",
    "or the stderr of CV error may be wrongly calculated.\"\"\"\n",
    "def index_tenfold(n:int) ->scipy.ndarray:\n",
    "    \"\"\"Produce index array for tenfold CV with dataframe length n.\"\"\"\n",
    "    original_indices = scipy.arange(n)\n",
    "    tenfold_indices = scipy.zeros(n)\n",
    "\n",
    "    div, mod = divmod(n, 10)\n",
    "    unit_sizes = [div for _ in range(10)]\n",
    "    for i in range(mod):\n",
    "        unit_sizes[i] += 1\n",
    "\n",
    "    for k, unit_size in enumerate(unit_sizes):\n",
    "        tenfold = scipy.random.choice(original_indices, unit_size,\n",
    "                                   replace=False)\n",
    "        tenfold_indices[tenfold] = k\n",
    "        original_indices = scipy.delete(\n",
    "            original_indices,\n",
    "            [scipy.argwhere(original_indices == val) for val in tenfold],\n",
    "        )\n",
    "        # print(tenfold, original_indices)\n",
    "    return tenfold_indices"
   ]
  },
  {
   "cell_type": "code",
   "execution_count": 10,
   "metadata": {},
   "outputs": [],
   "source": [
    "indices_tenfold = index_tenfold(size_train)\n",
    "cv_results = collections.defaultdict(list)\n",
    "\n",
    "for cv in range(10):\n",
    "    mask_cv = indices_tenfold != cv\n",
    "    size_cv_train = sum(mask_cv == True)\n",
    "\n",
    "    df_x = data_x_train[mask_cv]\n",
    "    v_y = vec_y[mask_cv]\n",
    "    \n",
    "    for k in range(size_predictor+1):\n",
    "        ols = ols_with_subset_size(df_x, v_y, k)\n",
    "        ols_best = min(ols, key=op.itemgetter('rss'))\n",
    "        cv_results[k].append(ols_best['rss']/size_cv_train)\n",
    "\n",
    "rss_average = [sum(rss)/10 for _, rss in cv_results.items()]\n",
    "rss_stderr = [math.sqrt((sum(scipy.array(rss)**2)-10*rss_average[k]**2)/9)\n",
    "              for k, rss in cv_results.items()]"
   ]
  },
  {
   "cell_type": "code",
   "execution_count": 11,
   "metadata": {},
   "outputs": [
    {
     "data": {
      "image/png": "[encoded data removed]",
      "text/plain": [
       "<matplotlib.figure.Figure at 0x7fb66391cfd0>"
      ]
     },
     "metadata": {},
     "output_type": "display_data"
    }
   ],
   "source": [
    "fig37 = plt.figure()\n",
    "ax = fig37.add_subplot(1, 1, 1)\n",
    "ax.plot(list(cv_results.keys()), rss_average, 'o-', color='C1')\n",
    "for k, (ave, stderr) in enumerate(zip(rss_average, rss_stderr)):\n",
    "    ax.plot([k, k], [ave-stderr, ave+stderr], color='C0', linewidth=1)\n",
    "    ax.plot([k-.1, k+.1], [ave-stderr, ave-stderr], color='C0', linewidth=1)\n",
    "    ax.plot([k-.1, k+.1], [ave+stderr, ave+stderr], color='C0', linewidth=1)\n",
    "plt.show()"
   ]
  },
  {
   "cell_type": "code",
   "execution_count": 13,
   "metadata": {},
   "outputs": [
    {
     "name": "stdout",
     "output_type": "stream",
     "text": [
      "           Term     Best Subset\n",
      "-------------------------------\n",
      "      Intercept           2.477\n",
      "         lcavol           0.736\n",
      "        lweight           0.315\n",
      "-------------------------------\n",
      "     Test Error           0.492\n"
     ]
    }
   ],
   "source": [
    "\"\"\"Table 3.3. Estimated coefficients ad test error result for the\n",
    "best-subset selection applied to the prostate data\n",
    "\n",
    "Even though the above CV does not select k = 2, we take k = 2 anyway as the\n",
    "book does. Also I couldn't figure out where the Std Error = 0.143 comes\n",
    "from.\n",
    "\"\"\"\n",
    "ols_k2 = ols_with_subset_size(data_x_train, vec_y, k=2)\n",
    "ols_k2_best = min(ols_k2, key=op.itemgetter('rss'))\n",
    "\n",
    "df_x_test = data_x_test[list(ols_k2_best['column_names'])]\n",
    "mat_x_test = scipy.hstack((scipy.ones((size_test, 1)), df_x_test.as_matrix()))\n",
    "vec_y_test_fitted = mat_x_test @ ols_k2_best['beta']\n",
    "\n",
    "print('{0:>15} {1:>15}'.format('Term', 'Best Subset'))\n",
    "print('-'*31)\n",
    "print('{0:>15} {1:>15.3f}'.format('Intercept', ols_k2_best['beta'][0]))\n",
    "for idx, col_name in enumerate(ols_k2_best['column_names']):\n",
    "    print('{0:>15} {1:>15.3f}'.format(col_name, ols_k2_best['beta'][idx+1]))\n",
    "print('-'*31)\n",
    "print('{0:>15} {1:>15.3f}'.format(\n",
    "    'Test Error',\n",
    "    sum((vec_y_test-vec_y_test_fitted)**2)/size_test),\n",
    ")"
   ]
  }
 ],
 "metadata": {
  "kernelspec": {
   "display_name": "Python 3",
   "language": "python",
   "name": "python3"
  },
  "language_info": {
   "codemirror_mode": {
    "name": "ipython",
    "version": 3
   },
   "file_extension": ".py",
   "mimetype": "text/x-python",
   "name": "python",
   "nbconvert_exporter": "python",
   "pygments_lexer": "ipython3",
   "version": "3.5.2"
  }
 },
 "nbformat": 4,
 "nbformat_minor": 2
}
