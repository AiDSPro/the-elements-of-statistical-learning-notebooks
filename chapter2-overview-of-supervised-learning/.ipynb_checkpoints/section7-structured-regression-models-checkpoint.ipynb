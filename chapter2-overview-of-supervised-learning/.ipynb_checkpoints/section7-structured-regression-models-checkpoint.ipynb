{
 "cells": [
  {
   "cell_type": "markdown",
   "metadata": {},
   "source": [
    "# $\\S$ 2.7. Structured Regression Models\n",
    "\n",
    "> This section introduces classes of such structured approaches. Before we proceed, though, we discuss further the need for such classes.\n",
    "\n",
    "Review: Although nearest-neighbor and other local methods focus directly on estimating the function at a point, they face problems in high dimensions.\n",
    "\n",
    "Furthermore, they may also be inappropriate even in low dimensions in cases where more structured approaches can make more efficient use of the data."
   ]
  },
  {
   "cell_type": "markdown",
   "metadata": {},
   "source": [
    "## $\\S$ 2.7.1. Difficulty of the Problem\n",
    "\n",
    "To be continued ..."
   ]
  }
 ],
 "metadata": {
  "kernelspec": {
   "display_name": "Python 3",
   "language": "python",
   "name": "python3"
  },
  "language_info": {
   "codemirror_mode": {
    "name": "ipython",
    "version": 3
   },
   "file_extension": ".py",
   "mimetype": "text/x-python",
   "name": "python",
   "nbconvert_exporter": "python",
   "pygments_lexer": "ipython3",
   "version": "3.5.2"
  }
 },
 "nbformat": 4,
 "nbformat_minor": 2
}
