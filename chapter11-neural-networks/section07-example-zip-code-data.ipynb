{
 "cells": [
  {
   "cell_type": "markdown",
   "metadata": {},
   "source": [
    "# $\\S$ 11.7. Example: ZIP Code Data\n",
    "\n",
    "This example is a character recognition task: Classification of handwritten numerals. This problem captured the attention of the machine learning and neural network community for many years, and has remained a benchmark problem in the field.\n",
    "\n",
    "FIGURE 11.9 shows some examples of normalized handwritten digits, automatically scanned from envelops by the U.S. Postal Service."
   ]
  },
  {
   "cell_type": "code",
   "execution_count": 1,
   "metadata": {},
   "outputs": [],
   "source": [
    "import pandas\n",
    "import matplotlib.pyplot as plt\n",
    "import torch"
   ]
  },
  {
   "cell_type": "code",
   "execution_count": 2,
   "metadata": {},
   "outputs": [
    {
     "data": {
      "text/plain": [
       "'The Whole Training Dataset (7291, 258)'"
      ]
     },
     "metadata": {},
     "output_type": "display_data"
    },
    {
     "data": {
      "text/html": [
       "<div>\n",
       "<style scoped>\n",
       "    .dataframe tbody tr th:only-of-type {\n",
       "        vertical-align: middle;\n",
       "    }\n",
       "\n",
       "    .dataframe tbody tr th {\n",
       "        vertical-align: top;\n",
       "    }\n",
       "\n",
       "    .dataframe thead th {\n",
       "        text-align: right;\n",
       "    }\n",
       "</style>\n",
       "<table border=\"1\" class=\"dataframe\">\n",
       "  <thead>\n",
       "    <tr style=\"text-align: right;\">\n",
       "      <th></th>\n",
       "      <th>0</th>\n",
       "      <th>1</th>\n",
       "      <th>2</th>\n",
       "      <th>3</th>\n",
       "      <th>4</th>\n",
       "      <th>5</th>\n",
       "      <th>6</th>\n",
       "      <th>7</th>\n",
       "      <th>8</th>\n",
       "      <th>9</th>\n",
       "      <th>...</th>\n",
       "      <th>248</th>\n",
       "      <th>249</th>\n",
       "      <th>250</th>\n",
       "      <th>251</th>\n",
       "      <th>252</th>\n",
       "      <th>253</th>\n",
       "      <th>254</th>\n",
       "      <th>255</th>\n",
       "      <th>256</th>\n",
       "      <th>257</th>\n",
       "    </tr>\n",
       "  </thead>\n",
       "  <tbody>\n",
       "    <tr>\n",
       "      <th>0</th>\n",
       "      <td>6.0</td>\n",
       "      <td>-1.0</td>\n",
       "      <td>-1.0</td>\n",
       "      <td>-1.0</td>\n",
       "      <td>-1.000</td>\n",
       "      <td>-1.000</td>\n",
       "      <td>-1.000</td>\n",
       "      <td>-1.000</td>\n",
       "      <td>-0.631</td>\n",
       "      <td>0.862</td>\n",
       "      <td>...</td>\n",
       "      <td>0.823</td>\n",
       "      <td>1.000</td>\n",
       "      <td>0.482</td>\n",
       "      <td>-0.474</td>\n",
       "      <td>-0.991</td>\n",
       "      <td>-1.000</td>\n",
       "      <td>-1.000</td>\n",
       "      <td>-1.000</td>\n",
       "      <td>-1.0</td>\n",
       "      <td>NaN</td>\n",
       "    </tr>\n",
       "    <tr>\n",
       "      <th>1</th>\n",
       "      <td>5.0</td>\n",
       "      <td>-1.0</td>\n",
       "      <td>-1.0</td>\n",
       "      <td>-1.0</td>\n",
       "      <td>-0.813</td>\n",
       "      <td>-0.671</td>\n",
       "      <td>-0.809</td>\n",
       "      <td>-0.887</td>\n",
       "      <td>-0.671</td>\n",
       "      <td>-0.853</td>\n",
       "      <td>...</td>\n",
       "      <td>-0.671</td>\n",
       "      <td>-0.033</td>\n",
       "      <td>0.761</td>\n",
       "      <td>0.762</td>\n",
       "      <td>0.126</td>\n",
       "      <td>-0.095</td>\n",
       "      <td>-0.671</td>\n",
       "      <td>-0.828</td>\n",
       "      <td>-1.0</td>\n",
       "      <td>NaN</td>\n",
       "    </tr>\n",
       "    <tr>\n",
       "      <th>2</th>\n",
       "      <td>4.0</td>\n",
       "      <td>-1.0</td>\n",
       "      <td>-1.0</td>\n",
       "      <td>-1.0</td>\n",
       "      <td>-1.000</td>\n",
       "      <td>-1.000</td>\n",
       "      <td>-1.000</td>\n",
       "      <td>-1.000</td>\n",
       "      <td>-1.000</td>\n",
       "      <td>-1.000</td>\n",
       "      <td>...</td>\n",
       "      <td>-1.000</td>\n",
       "      <td>-1.000</td>\n",
       "      <td>-0.109</td>\n",
       "      <td>1.000</td>\n",
       "      <td>-0.179</td>\n",
       "      <td>-1.000</td>\n",
       "      <td>-1.000</td>\n",
       "      <td>-1.000</td>\n",
       "      <td>-1.0</td>\n",
       "      <td>NaN</td>\n",
       "    </tr>\n",
       "    <tr>\n",
       "      <th>3</th>\n",
       "      <td>7.0</td>\n",
       "      <td>-1.0</td>\n",
       "      <td>-1.0</td>\n",
       "      <td>-1.0</td>\n",
       "      <td>-1.000</td>\n",
       "      <td>-1.000</td>\n",
       "      <td>-0.273</td>\n",
       "      <td>0.684</td>\n",
       "      <td>0.960</td>\n",
       "      <td>0.450</td>\n",
       "      <td>...</td>\n",
       "      <td>1.000</td>\n",
       "      <td>0.536</td>\n",
       "      <td>-0.987</td>\n",
       "      <td>-1.000</td>\n",
       "      <td>-1.000</td>\n",
       "      <td>-1.000</td>\n",
       "      <td>-1.000</td>\n",
       "      <td>-1.000</td>\n",
       "      <td>-1.0</td>\n",
       "      <td>NaN</td>\n",
       "    </tr>\n",
       "    <tr>\n",
       "      <th>4</th>\n",
       "      <td>3.0</td>\n",
       "      <td>-1.0</td>\n",
       "      <td>-1.0</td>\n",
       "      <td>-1.0</td>\n",
       "      <td>-1.000</td>\n",
       "      <td>-1.000</td>\n",
       "      <td>-0.928</td>\n",
       "      <td>-0.204</td>\n",
       "      <td>0.751</td>\n",
       "      <td>0.466</td>\n",
       "      <td>...</td>\n",
       "      <td>0.639</td>\n",
       "      <td>1.000</td>\n",
       "      <td>1.000</td>\n",
       "      <td>0.791</td>\n",
       "      <td>0.439</td>\n",
       "      <td>-0.199</td>\n",
       "      <td>-0.883</td>\n",
       "      <td>-1.000</td>\n",
       "      <td>-1.0</td>\n",
       "      <td>NaN</td>\n",
       "    </tr>\n",
       "  </tbody>\n",
       "</table>\n",
       "<p>5 rows × 258 columns</p>\n",
       "</div>"
      ],
      "text/plain": [
       "   0    1    2    3      4      5      6      7      8      9   ...     248  \\\n",
       "0  6.0 -1.0 -1.0 -1.0 -1.000 -1.000 -1.000 -1.000 -0.631  0.862 ...   0.823   \n",
       "1  5.0 -1.0 -1.0 -1.0 -0.813 -0.671 -0.809 -0.887 -0.671 -0.853 ...  -0.671   \n",
       "2  4.0 -1.0 -1.0 -1.0 -1.000 -1.000 -1.000 -1.000 -1.000 -1.000 ...  -1.000   \n",
       "3  7.0 -1.0 -1.0 -1.0 -1.000 -1.000 -0.273  0.684  0.960  0.450 ...   1.000   \n",
       "4  3.0 -1.0 -1.0 -1.0 -1.000 -1.000 -0.928 -0.204  0.751  0.466 ...   0.639   \n",
       "\n",
       "     249    250    251    252    253    254    255  256  257  \n",
       "0  1.000  0.482 -0.474 -0.991 -1.000 -1.000 -1.000 -1.0  NaN  \n",
       "1 -0.033  0.761  0.762  0.126 -0.095 -0.671 -0.828 -1.0  NaN  \n",
       "2 -1.000 -0.109  1.000 -0.179 -1.000 -1.000 -1.000 -1.0  NaN  \n",
       "3  0.536 -0.987 -1.000 -1.000 -1.000 -1.000 -1.000 -1.0  NaN  \n",
       "4  1.000  1.000  0.791  0.439 -0.199 -0.883 -1.000 -1.0  NaN  \n",
       "\n",
       "[5 rows x 258 columns]"
      ]
     },
     "metadata": {},
     "output_type": "display_data"
    }
   ],
   "source": [
    "\"\"\"FIGURE 11.9. Examples of training cases from ZIP code data.\n",
    "Each image is a 16x16 8-bit grayscale representation of a handwritten digit.\"\"\"\n",
    "# pandas.read_csv is faster than scipy.array(list(csv.reader(...)))\n",
    "train_df = pandas.read_csv('../data/zipcode/zip.train', delimiter=' ', header=None)\n",
    "test_df = pandas.read_csv('../data/zipcode/zip.test', delimiter=' ', header=None)\n",
    "display(f'The Whole Training Dataset {train_df.shape}', train_df.head())\n",
    "\n",
    "size_train = train_df.shape[0]\n",
    "size_test = test_df.shape[0]"
   ]
  },
  {
   "cell_type": "code",
   "execution_count": 3,
   "metadata": {},
   "outputs": [],
   "source": [
    "\"\"\"It needs to be split into inputs and outputs,\n",
    "and also its 257th column should be removed.\"\"\"\n",
    "from IPython.display import display\n",
    "\n",
    "trainy_df = train_df[0].astype(int)\n",
    "trainx_df = train_df.drop(columns=[0, 257])\n",
    "\n",
    "testy_df = test_df[0].astype(int)\n",
    "testx_df = test_df.drop(columns=[0])\n",
    "\n",
    "display_trainx_df = trainx_df[:16]\n",
    "display_trainy_df = trainy_df[:16]\n",
    "\n",
    "display_trainx_mat = display_trainx_df.values\n",
    "display_trainy_vec = display_trainy_df.values"
   ]
  },
  {
   "cell_type": "code",
   "execution_count": 4,
   "metadata": {},
   "outputs": [
    {
     "data": {
      "image/png": "[encoded data removed]",
      "text/plain": [
       "<Figure size 864x864 with 16 Axes>"
      ]
     },
     "metadata": {},
     "output_type": "display_data"
    }
   ],
   "source": [
    "\"\"\"I will use matshow since it shows indices of the matrix as it is.\n",
    "I would like to actually see a few of them.\n",
    "\"\"\"\n",
    "fig2 = plt.figure(2, figsize=(12, 12))\n",
    "axes2 = fig2.subplots(4, 4)\n",
    "for ax2, digit, label in zip(axes2.flatten(), display_trainx_mat, display_trainy_vec):\n",
    "    ax2.matshow(digit.reshape(16, 16), cmap='gray')\n",
    "    ax2.tick_params(labeltop=False, labelleft=False)\n",
    "    ax2.set_title(f'Labeled as {label}')"
   ]
  },
  {
   "cell_type": "markdown",
   "metadata": {},
   "source": [
    "The original scanned digits are binary and of different sizes and orientations; the images shown here have been deslanted and size normalized, resulting in $16 \\times 16$ grayscale images (Le Cun et al., 1990). These 256 pixel values are used as inputs to the neural network classifier."
   ]
  },
  {
   "cell_type": "markdown",
   "metadata": {},
   "source": [
    "A _black box_ neural network is not ideally suited to this pattern recognition task, partly because the pixel representation of the images lack certain invariances (such as small rotations of the image). Consequently early attemps with neural networks yielded misclassification rates around 4.5% on various examples of the problem.\n",
    "\n",
    "In this section we show some of the pioneering efforts to handcraft the neural network to overcome some these deficiencies (Le Cun, 1989), which ultimately led to the state of the art in neural network performance (Le Cun et al., 1998)."
   ]
  },
  {
   "cell_type": "markdown",
   "metadata": {},
   "source": [
    "### Test environment\n",
    "\n",
    "#### Data\n",
    "Although current digit datasets have tens of thousands of training and test examples, the sample size here is deliberately modest in order to emphasize the effects. The examples were obtained by scanning some actual handwritten digits, and then generating additional images by random horizontal shifts (Le Cun, 1989).\n",
    "\n",
    "There are 320 digits in the training set, and 160 in the test set.\n",
    "\n",
    "#### Models\n",
    "Five different networks were fit to the data:\n",
    "* Net-1: No hidden layer, equivalent to multinomial logistic regression.\n",
    "* Net-2: One hidden layer, 12 hidden units fully connected.\n",
    "* Net-3: Two hidden layers locally connected.\n",
    "* Net-4: Two hidden layers, locally connected with weight sharing.\n",
    "* Net-5: Two hidden layers, locally connected, two levels of weights sharing.\n",
    "\n",
    "These are depicted in FIGURE 11.10.\n",
    "\n",
    "![Architecture of the five networks used in the ZIP code example](./fig11-10.jpg)\n",
    "\n",
    "Net-1 for example has 256 inputs, one each for the $16 \\times 16$ input pixels, and ten output units for each of the digits 0-9. The predicted value $\\hat{f}_k(x)$ represents the estimated probability that an image $x$ has digit class $k$, for $k=0,1,2,\\cdots,9$.\n",
    "\n",
    "The networks all have sigmoidal output units, and were all fit with the sum-of-squares error function.\n",
    "\n",
    "The first network has no hidden layer, and hence is nearly equivalent to a linear multinomial regression model (Exercise 11.4).\n",
    "\n",
    "Net-2 is a single hidden layer network with 12 hidden units, of the kind described in $\\S$ 11.6."
   ]
  },
  {
   "cell_type": "markdown",
   "metadata": {},
   "source": [
    "### Details on models\n",
    "\n",
    "The training set error for all of the networks was 0%, since in all cases there are more parameters than training observations.\n",
    "\n",
    "The evolution of the test error during the training epochs is shown in FIGURE 11.11. The linear network (Net-1) starts to overfit fairly quickly, while test performance of the others level off at successively superior values."
   ]
  },
  {
   "cell_type": "code",
   "execution_count": 5,
   "metadata": {},
   "outputs": [],
   "source": [
    "\"\"\"FIGURE 11.11. Test performance curves,\n",
    "as a function of the number of training epochs, for the five networks.\"\"\"\n",
    "n, p, m2, k = size_train, 16*16, 12, 10\n",
    "learning_rate = 1\n",
    "epochs = 3000\n",
    "\n",
    "# Standardize\n",
    "torchx = torch.from_numpy(trainx_df.values).float()\n",
    "torchx_mean = torchx.mean(dim=0)\n",
    "torchx_std = torchx.std(dim=0)\n",
    "torchx = (torchx - torchx_mean)/torchx_std\n",
    "varx = torch.autograd.Variable(torchx)\n",
    "vary = torch.autograd.Variable(torch.from_numpy(trainy_df.values).long(),\n",
    "                                 requires_grad=False)\n",
    "\n",
    "torchx_test = torch.from_numpy(testx_df.values).float()\n",
    "torchx_test = (torchx_test - torchx_mean)/torchx_std\n",
    "varx_test = torch.autograd.Variable(torchx_test, requires_grad=False)\n",
    "vary_test = torch.autograd.Variable(torch.from_numpy(testy_df.values).long(),\n",
    "                                      requires_grad=False)"
   ]
  },
  {
   "cell_type": "code",
   "execution_count": 6,
   "metadata": {},
   "outputs": [],
   "source": [
    "# Net-1\n",
    "net1 = torch.nn.Sequential(\n",
    "    torch.nn.Linear(p, k, bias=True),\n",
    ")\n",
    "lossf1 = torch.nn.CrossEntropyLoss()\n",
    "optimizer1 = torch.optim.SGD(net1.parameters(), lr=learning_rate,)"
   ]
  },
  {
   "cell_type": "code",
   "execution_count": 7,
   "metadata": {},
   "outputs": [],
   "source": [
    "errs1_test = []\n",
    "for epoch in range(epochs):\n",
    "    y1pred = net1(varx)\n",
    "    loss1 = lossf1(y1pred, vary)\n",
    "    optimizer1.zero_grad()\n",
    "    loss1.backward()\n",
    "    optimizer1.step()\n",
    "    \n",
    "    # Test for every epoch\n",
    "    _, test_y1pred = torch.max(net1(varx_test), 1)\n",
    "    errs1_test.append((vary_test.data == test_y1pred.data).sum()/size_test)"
   ]
  },
  {
   "cell_type": "code",
   "execution_count": 9,
   "metadata": {},
   "outputs": [],
   "source": [
    "# Net-2\n",
    "net2 = torch.nn.Sequential(\n",
    "    torch.nn.Linear(p, m2, bias=True),\n",
    "    torch.nn.Sigmoid(),\n",
    "    torch.nn.Linear(m2, k, bias=True),\n",
    ")\n",
    "lossf2 = torch.nn.CrossEntropyLoss()\n",
    "optimizer2 = torch.optim.SGD(net2.parameters(), lr=learning_rate,)"
   ]
  },
  {
   "cell_type": "code",
   "execution_count": 11,
   "metadata": {},
   "outputs": [],
   "source": [
    "errs2_test = []\n",
    "for epoch in range(epochs):\n",
    "    y2pred = net2(varx)\n",
    "    loss2 = lossf2(y2pred, vary)\n",
    "    optimizer2.zero_grad()\n",
    "    loss2.backward()\n",
    "    optimizer2.step()\n",
    "    \n",
    "    # Test for every epoch\n",
    "    _, test_y2pred = torch.max(net2(varx_test), 1)\n",
    "    errs2_test.append((vary_test.data == test_y2pred.data).sum()/size_test)"
   ]
  },
  {
   "cell_type": "code",
   "execution_count": 14,
   "metadata": {},
   "outputs": [
    {
     "name": "stdout",
     "output_type": "stream",
     "text": [
      "Training error rate of Net-1: 0.002057330955973158\n",
      "Training error rate of Net-2: 0.0026059525442325704\n"
     ]
    },
    {
     "data": {
      "text/plain": [
       "<matplotlib.legend.Legend at 0x7fac15222c88>"
      ]
     },
     "execution_count": 14,
     "metadata": {},
     "output_type": "execute_result"
    },
    {
     "data": {
      "image/png": "[encoded data removed]",
      "text/plain": [
       "<Figure size 432x288 with 1 Axes>"
      ]
     },
     "metadata": {},
     "output_type": "display_data"
    }
   ],
   "source": [
    "# Check training fit\n",
    "_, train_y1pred = torch.max(y1pred, 1)\n",
    "_, train_y2pred = torch.max(y2pred, 1)\n",
    "print(f'Training error rate of Net-1: {1-sum(train_y1pred.data == vary.data)/n}')\n",
    "print(f'Training error rate of Net-2: {1-sum(train_y2pred.data == vary.data)/n}')\n",
    "\n",
    "fig100 = plt.figure(100)\n",
    "ax100 = fig100.add_subplot(1, 1, 1)\n",
    "ax100.plot(errs1_test, label='Net-1')\n",
    "ax100.plot(errs2_test, label='Net-2')\n",
    "ax100.legend()"
   ]
  },
  {
   "cell_type": "markdown",
   "metadata": {},
   "source": [
    "The other three networks have additional features which demonstrate the power and flexibility of the neural network paradigm. They introduce constraints on the network, natural for the problem at hand, which allow for more complex connectivity but fewer parameters.\n",
    "\n",
    "#### Local connectivity\n",
    "Net-3 uses local connectivity; this means that each hidden unit is connected to only a small patch of units in the layer below.\n",
    "* In the first hidden layer (an $8 \\times 8$ array), each unit takes inputs from a $3 \\times 3$ patch of the input layer; for units in the first hidden layer that are two pixels apart, their receptive fields overlap by one row or column, and hence are two pixel apart.\n",
    "* In the second hidden layer, inputs are from a $5 \\times 5$ patch, and again units that are one unit apart have receptive fields that are two units apart.\n",
    "\n",
    "The weights for all other connections are set to zero.\n",
    "\n",
    "Local connectivity makes each unit responsible for extracting local features from the layer below, and reduces considerably the total number of weights. With many more hidden units than Net-2, Net-3 has fewer links and hence weights (1226 vs. 3214), and achieves similar performance.\n",
    "\n",
    "#### Weight sharing\n",
    "Net-4 and Net-5 have local connectivity with shared weights. All units in a local feature map perform the _same_ operation on different parts of the image, achieved by sharing the same weights.\n",
    "\n",
    "* The first hidden layer of Net-4 has two $8 \\times 8$ array, and each unit takes input from a $3 \\times 3$ patch just like in Net-3. However, each of the units in a single $8 \\times 8$ feature map share the same set of nine weights (but have their own bias parameter).  \n",
    "\n",
    "  > This forces the extracted features in different parts of the image to be computed by the same linear functional, and consequently these networks are sometimes known as _convolutional networks_.\n",
    "\n",
    "* The second hidden layer of Net-4 has no weight sharing, and is the same as in Net-3.\n",
    "\n",
    "The gradient of the error function $R$ w.r.t. a shared weight is the sum of the gradients of $R$ w.r.t. each connection controlled by the weights in question.\n",
    "\n",
    "TABLE 11.1 gives the number of links, the number of weights and the optimal test performance for each of the networks.\n",
    "\n",
    " | Network Architecture | Links | Weights | % Correct\n",
    "--- | --- | --- | --- | ---\n",
    "Net-1 | Single layer network | 2570 | 2570 | 80.0%\n",
    "Net-2 | Two layer network | 3124 | 3124 | 87.7%\n",
    "Net-3 | Locally connected | 1226 | 1226 | 88.5%\n",
    "Net-4 | Constrained network 1 | 2266 | 1132 | 94.0%\n",
    "Net-5 | Constrained network 2 | 5194 | 1060 | 98.4%\n",
    "\n",
    "We see that\n",
    "* Net-4 has more links but fewer weights than Net-3, and superior test performance.\n",
    "* Net-5 has four $4 \\times 4$ feature maps in the second hidden layer, each unit connected to $5 \\times 5$ local patch in the layer below.  \n",
    "  Weights are shared in each of these feature maps.\n",
    "* Net-5 does the best, having errors of only 1.6%, compared to 13% for the \"vanilla\" network Net-2."
   ]
  },
  {
   "cell_type": "markdown",
   "metadata": {},
   "source": [
    "### Implication of Net-5\n",
    "\n",
    "The clever design of Net-5, motivated by the fact that features of handwriting style should appear in more than one part of a digit, was the result of many person years of experimentation. This and similar networks gave better performance on ZIP code problem than any other learning methd at that time (early 1990s).\n",
    "\n",
    "This example also shows that neural networks are not a fully automatic tool, as they are sometimes advertised. As with all statistical models, subject matter knowledge can and should be used to improve their performance."
   ]
  },
  {
   "cell_type": "markdown",
   "metadata": {},
   "source": [
    "### Further modern methods\n",
    "\n",
    "This network was later outperformed by the tangent distance approach (Simard et al., 1993) ($\\S$ 13.3.3), which explicitly incorporates natural affine invariances. At this point the digit recognition datasets become test beds for every new learning procedure, and researchers worked hard to drive down the error rates. As of this writing, the best error rates on a large database (60,000 training, 10,000 test observations), derived from standard NIST databases, were reported to be the following (Le Cun et al., 1998):\n",
    "* 1.1% for tangent distance with a 1NN classifier ($\\S$ 13.3.3);\n",
    "* 0.8% for a degree-9 polynomial SVM ($\\S$ 12.3);\n",
    "* 0.8% for _LeNet-5_, a more complex version of the convolutional network;\n",
    "* 0.7% for boosted _LeNet-4_. Boosting is described in Chapter 8. _LeNet-4_ is a predecessor of _LeNet-5_.\n",
    "\n",
    "Le Cun et al. (1998) report a much larger table of performance results, and it is evident that many groups have been working very hard to bring these test error rates down. They report a standard error of 0.1% on the error estimates, which is based on a binomial average with $N=10000$ and $p \\approx 0.01$. This implies that error rates within 0.1%-0.2% of one another are statistically equivalent. Realistically the standard error is even higher, since the test data has been implicitly used in the tuning of the various procedures."
   ]
  }
 ],
 "metadata": {
  "kernelspec": {
   "display_name": "Python 3",
   "language": "python",
   "name": "python3"
  },
  "language_info": {
   "codemirror_mode": {
    "name": "ipython",
    "version": 3
   },
   "file_extension": ".py",
   "mimetype": "text/x-python",
   "name": "python",
   "nbconvert_exporter": "python",
   "pygments_lexer": "ipython3",
   "version": "3.6.4"
  }
 },
 "nbformat": 4,
 "nbformat_minor": 2
}
